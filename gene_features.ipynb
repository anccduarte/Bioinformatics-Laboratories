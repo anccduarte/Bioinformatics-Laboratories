{
 "cells": [
  {
   "cell_type": "markdown",
   "id": "4c75461b-91c3-4c3a-b4ce-eda78d8d24f5",
   "metadata": {},
   "source": [
    "## Análise da sequência e das features presentes no NCBI"
   ]
  },
  {
   "cell_type": "code",
   "execution_count": 8,
   "id": "bfe4f214-ec38-4ab4-9260-35d63eb6fe83",
   "metadata": {},
   "outputs": [],
   "source": [
    "from Bio import SeqIO\n",
    "from Bio import Entrez"
   ]
  },
  {
   "cell_type": "code",
   "execution_count": 18,
   "id": "f839a5a0-3976-48b0-b6cb-3876e2ba7161",
   "metadata": {},
   "outputs": [],
   "source": [
    "genes = [(\"rrnB\",\"U00096\",4166659,4168200),\n",
    "         (\"ampC\",\"U00096.3\",4377811,4378944)]"
   ]
  },
  {
   "cell_type": "code",
   "execution_count": 19,
   "id": "96033d40-6937-45c4-a50a-cb4e21f0c569",
   "metadata": {
    "collapsed": true,
    "jupyter": {
     "outputs_hidden": true
    },
    "tags": []
   },
   "outputs": [
    {
     "name": "stdout",
     "output_type": "stream",
     "text": [
      "----> Gene 1: Escherichia coli's rrnB <----\n",
      "\n",
      "ANNOTATIONS\n",
      "Accessions: U00096 (region 4166659..4168200)\n",
      "Source: Escherichia coli str. K-12 substr. MG1655\n",
      "Taxonomy: Bacteria -> Proteobacteria -> Gammaproteobacteria -> Enterobacterales -> Enterobacteriaceae -> Escherichia\n",
      "Molecule type: DNA\n",
      "Molecule topology: linear\n",
      "\n",
      "FEATURES (types)\n",
      "- source\n",
      "- gene\n",
      "- rRNA\n",
      "\n",
      "CDS qualifiers\n",
      "- None\n",
      "\n",
      "\n",
      "----> Gene 2: Escherichia coli's ampC <----\n",
      "\n",
      "ANNOTATIONS\n",
      "Accessions: U00096 (region 4377811..4378944)\n",
      "Source: Escherichia coli str. K-12 substr. MG1655\n",
      "Taxonomy: Bacteria -> Proteobacteria -> Gammaproteobacteria -> Enterobacterales -> Enterobacteriaceae -> Escherichia\n",
      "Molecule type: DNA\n",
      "Molecule topology: linear\n",
      "\n",
      "FEATURES (types)\n",
      "- source\n",
      "- gene\n",
      "- CDS\n",
      "\n",
      "CDS qualifiers\n",
      "Gene: ampC\n",
      "Product: beta-lactamase\n",
      "Protein ID: AAC77110.1\n",
      "Translation: MFKTTLCALLITASCSTFAAPQQINDIVHRTITPLIEQQKIPGMAVAVIYQGKPYYFTWG...\n",
      "\n",
      "\n"
     ]
    }
   ],
   "source": [
    "i = 1\n",
    "for gene in genes:\n",
    "    print(f\"----> Gene {i}: Escherichia coli's {gene[0]} <----\\n\")\n",
    "    i += 1\n",
    "    # --> busca de dados em db=\"nucleotide\" <--\n",
    "    Entrez.email = \"pg45464@alunos.uminho.pt\"\n",
    "    handle = Entrez.efetch(db=\"nucleotide\",id=gene[1],seq_start=gene[2],seq_stop=gene[3],\n",
    "                           rettype=\"gb\",retmode=\"text\")\n",
    "    record = SeqIO.read(handle,\"genbank\")\n",
    "    # --> anotações dos genes (rrnB e ampC) <--\n",
    "    print(\"ANNOTATIONS\")\n",
    "    accessions = record.annotations[\"accessions\"]\n",
    "    print(f\"Accessions: {accessions[0]} (region {accessions[2]})\")\n",
    "    source = record.annotations[\"source\"]\n",
    "    print(f\"Source: {source}\")\n",
    "    taxonomy = record.annotations[\"taxonomy\"]\n",
    "    print(\"Taxonomy: \" + \" -> \".join(taxonomy))\n",
    "    mol_type = record.annotations[\"molecule_type\"]\n",
    "    print(f\"Molecule type: {mol_type}\")\n",
    "    topology = record.annotations[\"topology\"]\n",
    "    print(f\"Molecule topology: {topology}\")\n",
    "    # --> guardar as sequências de DNA em formato fasta <--\n",
    "    output = open(f\"{gene[0]}_dna.fasta\",\"w\")\n",
    "    output.write(f\">{gene[1]} | Escherichia coli {gene[0]} | {accessions[2]} | {source}\\n\"\n",
    "                f\"{record.seq}\")\n",
    "    output.close()\n",
    "    # --> features presentes nos genes de interesse <--\n",
    "    print(\"\\nFEATURES (types)\")\n",
    "    for feature in record.features:\n",
    "        print(f\"- {feature.type}\")\n",
    "    # --> CDS - imprime e guarda algumas informções acerca do gene e das proteínas associadas <--\n",
    "    print(\"\\nCDS qualifiers\")\n",
    "    for feature in record.features:\n",
    "        if feature.type == \"CDS\":\n",
    "            feat_gene = feature.qualifiers[\"gene\"][0]\n",
    "            feat_id = feature.qualifiers[\"protein_id\"][0]\n",
    "            feat_product = feature.qualifiers[\"product\"][0]\n",
    "            feat_translation = feature.qualifiers[\"translation\"][0]\n",
    "            print(f\"Gene: {feat_gene}\")\n",
    "            print(f\"Product: {feat_product}\")\n",
    "            print(f\"Protein ID: {feat_id}\")\n",
    "            print(f\"Translation: {feat_translation[0:60]}...\")\n",
    "            output2 = open(f\"{gene[0]}_prot.fasta\",\"w\")\n",
    "            output2.write(f\">{gene[1]} | Escherichia coli {gene[0]} | {accessions[2]} | {source}\\n\"\n",
    "                f\"{feat_translation}\")\n",
    "            output2.close()\n",
    "    if all(feature.type != \"CDS\" for feature in record.features):\n",
    "        print(\"- None\")\n",
    "    print(\"\\n\")\n",
    "    handle.close()"
   ]
  },
  {
   "cell_type": "code",
   "execution_count": null,
   "id": "92c9e82e-d8f7-4275-b6e7-9a32bb33325b",
   "metadata": {},
   "outputs": [],
   "source": []
  }
 ],
 "metadata": {
  "kernelspec": {
   "display_name": "Python 3 (ipykernel)",
   "language": "python",
   "name": "python3"
  },
  "language_info": {
   "codemirror_mode": {
    "name": "ipython",
    "version": 3
   },
   "file_extension": ".py",
   "mimetype": "text/x-python",
   "name": "python",
   "nbconvert_exporter": "python",
   "pygments_lexer": "ipython3",
   "version": "3.8.8"
  }
 },
 "nbformat": 4,
 "nbformat_minor": 5
}
