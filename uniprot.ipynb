{
 "cells": [
  {
   "cell_type": "markdown",
   "id": "41491b6c-ff8b-4210-9294-31cfbc039630",
   "metadata": {},
   "source": [
    "## Ferramentas de análise das propriedades da proteína"
   ]
  },
  {
   "cell_type": "code",
   "execution_count": 4,
   "id": "a562fed6-146a-4a76-9bd3-3b487eac6668",
   "metadata": {},
   "outputs": [],
   "source": [
    "import Bio.SwissProt as sp"
   ]
  },
  {
   "cell_type": "code",
   "execution_count": 2,
   "id": "13b6d0bf-93a7-4c64-99fd-337906ac7a55",
   "metadata": {},
   "outputs": [],
   "source": [
    "file = \"P00811\""
   ]
  },
  {
   "cell_type": "code",
   "execution_count": 3,
   "id": "cc85d204-3d27-4253-adac-c8fdfd03e03f",
   "metadata": {
    "collapsed": true,
    "jupyter": {
     "outputs_hidden": true
    },
    "tags": []
   },
   "outputs": [
    {
     "name": "stdout",
     "output_type": "stream",
     "text": [
      "----> UniProtKB - P00811 (AMPC_ECOLI) <----\n",
      "\n",
      "ACCESSION\n",
      "ID UniProt: P00811\n",
      "ID UniProt: Q2M6F2\n",
      "\n",
      "DESCRIPTION\n",
      "RecName: Full=Beta-lactamase\n",
      "EC=3.5.2.6\n",
      "AltName: Full=Cephalosporinase\n",
      "Flags: Precursor\n",
      "\n",
      "OTHER\n",
      "Organism: 'Escherichia coli (strain K12).'\n",
      "Taxonomy: Bacteria -> Proteobacteria -> Gammaproteobacteria -> Enterobacterales -> Enterobacteriaceae -> Escherichia\n",
      "Sequence: MFKTTLCALLITASCSTFAAPQQINDIVHRTITPLIEQQKIPGMAVAVIYQGKPYYFTWG...\n",
      "Sequence length: 377\n",
      "Keywords: 3D-structure, Antibiotic resistance, Direct protein sequencing, Hydrolase, Periplasm, Reference proteome, Signal\n",
      "\n",
      "ACTIVE SITES\n",
      "Active site 1: at position 80 corresponding to the aminoacid 'S'\n",
      "Active site 2: at position 166 corresponding to the aminoacid 'Y'\n",
      "\n",
      "MUTAGENESIS\n",
      "1. at position 80 - S->D,E,G: Loss of activity.\n",
      "2. at position 83 - K->Q,T: Lowers activity more than 1000-fold and increases protein stability.\n",
      "3. at position 166 - Y->E: Lowers activity more than 1000-fold.\n",
      "4. at position 168 - N->D,H: Lowers activity more than 1000-fold.\n",
      "5. at position 331 - K->A: Lowers activity more than 1000-fold.\n"
     ]
    }
   ],
   "source": [
    "with open(f\"{file}.txt\") as handle:\n",
    "    record = sp.read(handle)\n",
    "    print(f\"----> UniProtKB - {file} ({record.entry_name}) <----\\n\")\n",
    "    # --> record.accessions <--\n",
    "    print(\"ACCESSION\")\n",
    "    for acc in record.accessions:\n",
    "        print(\"ID UniProt:\", acc)\n",
    "    # --> record.description <--\n",
    "    print(\"\\nDESCRIPTION\")\n",
    "    for desc in record.description.split(\";\"):\n",
    "        print(desc.lstrip())\n",
    "    print(\"OTHER\")\n",
    "    print(\"Organism:\",repr(record.organism))\n",
    "    print(\"Taxonomy:\",\" -> \".join(record.organism_classification))\n",
    "    print(\"Sequence:\",record.sequence[:60] + \"...\")\n",
    "    print(\"Sequence length:\", record.sequence_length)\n",
    "    print(\"Keywords:\",\", \".join(record.keywords))\n",
    "    print(\"\")\n",
    "# --> record features: active sites <--\n",
    "print(\"ACTIVE SITES\")\n",
    "counter = 1\n",
    "for r in record.features:\n",
    "    if r.type == \"ACT_SITE\":\n",
    "        end = r.location.end\n",
    "        print(f\"Active site {counter}: at position {end} corresponding to the aminoacid \"\n",
    "              f\"'{record.sequence[end-1]}'\")\n",
    "        counter += 1    \n",
    "# --> record features: mutagenesis <--\n",
    "print(\"\\nMUTAGENESIS\")\n",
    "counter = 1\n",
    "for r in record.features:\n",
    "    if r.type == \"MUTAGEN\":\n",
    "        note = r.qualifiers[\"note\"]\n",
    "        print(f\"{counter}. at position {r.location.end} - {note}\")\n",
    "        counter += 1"
   ]
  },
  {
   "cell_type": "code",
   "execution_count": null,
   "id": "5e422102-2f6f-4eb6-8bb3-70150aa4ea41",
   "metadata": {},
   "outputs": [],
   "source": []
  }
 ],
 "metadata": {
  "kernelspec": {
   "display_name": "Python 3 (ipykernel)",
   "language": "python",
   "name": "python3"
  },
  "language_info": {
   "codemirror_mode": {
    "name": "ipython",
    "version": 3
   },
   "file_extension": ".py",
   "mimetype": "text/x-python",
   "name": "python",
   "nbconvert_exporter": "python",
   "pygments_lexer": "ipython3",
   "version": "3.8.8"
  }
 },
 "nbformat": 4,
 "nbformat_minor": 5
}
